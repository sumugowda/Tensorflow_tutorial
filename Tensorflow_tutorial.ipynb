{
  "nbformat": 4,
  "nbformat_minor": 0,
  "metadata": {
    "colab": {
      "provenance": [],
      "collapsed_sections": [
        "l8lIxQ6u_Od7"
      ],
      "authorship_tag": "ABX9TyOYEWZ1L/LjQcLTGnIxTnvP",
      "include_colab_link": true
    },
    "kernelspec": {
      "name": "python3",
      "display_name": "Python 3"
    },
    "language_info": {
      "name": "python"
    }
  },
  "cells": [
    {
      "cell_type": "markdown",
      "metadata": {
        "id": "view-in-github",
        "colab_type": "text"
      },
      "source": [
        "<a href=\"https://colab.research.google.com/github/sumugowda/Tensorflow_tutorial/blob/main/Tensorflow_tutorial.ipynb\" target=\"_parent\"><img src=\"https://colab.research.google.com/assets/colab-badge.svg\" alt=\"Open In Colab\"/></a>"
      ]
    },
    {
      "cell_type": "code",
      "execution_count": 1,
      "metadata": {
        "id": "XC7VhSTve3KY"
      },
      "outputs": [],
      "source": [
        "import tensorflow as tf"
      ]
    },
    {
      "cell_type": "markdown",
      "source": [
        "# Tensor Demo"
      ],
      "metadata": {
        "id": "l8lIxQ6u_Od7"
      }
    },
    {
      "cell_type": "code",
      "source": [
        "x = tf.constant(10.0)\n",
        "y = tf.constant(15.0)\n",
        "z = x+y\n",
        "print(z)"
      ],
      "metadata": {
        "colab": {
          "base_uri": "https://localhost:8080/"
        },
        "id": "wZIA_MkE_bhU",
        "outputId": "03d24fbd-379c-44d1-d8fb-e5e295b8643e"
      },
      "execution_count": 2,
      "outputs": [
        {
          "output_type": "stream",
          "name": "stdout",
          "text": [
            "tf.Tensor(25.0, shape=(), dtype=float32)\n"
          ]
        }
      ]
    },
    {
      "cell_type": "markdown",
      "source": [
        "# Define tensorflow Variables\n"
      ],
      "metadata": {
        "id": "nERjbKdv31O5"
      }
    },
    {
      "cell_type": "code",
      "source": [
        "#Assume Linear Model y = w*x+b\n",
        "#define model parameters\n",
        "w = tf.Variable([.3], tf.float32)\n",
        "b = tf.Variable([-.3], tf.float32)\n",
        "\n",
        "#Define model input and output\n",
        "x = tf.Variable([5.0], tf.float32)\n",
        "y = w*x+b\n",
        "\n",
        "print(\"w:\", w)\n",
        "print(\"x:\", x)\n",
        "print(\"b:\", b)\n",
        "print(\"y:\", y)"
      ],
      "metadata": {
        "colab": {
          "base_uri": "https://localhost:8080/"
        },
        "id": "QCITUsRX39PY",
        "outputId": "139e205c-2166-4729-d830-53298caa76cf"
      },
      "execution_count": 4,
      "outputs": [
        {
          "output_type": "stream",
          "name": "stdout",
          "text": [
            "w: <tf.Variable 'Variable:0' shape=(1,) dtype=float32, numpy=array([0.3], dtype=float32)>\n",
            "x: <tf.Variable 'Variable:0' shape=(1,) dtype=float32, numpy=array([5.], dtype=float32)>\n",
            "b: <tf.Variable 'Variable:0' shape=(1,) dtype=float32, numpy=array([-0.3], dtype=float32)>\n",
            "y: tf.Tensor([1.2], shape=(1,), dtype=float32)\n"
          ]
        }
      ]
    },
    {
      "cell_type": "markdown",
      "source": [
        "# Linear model in tensorflow"
      ],
      "metadata": {
        "id": "-GlF1PFQ5EAm"
      }
    },
    {
      "cell_type": "code",
      "source": [
        "train_X = [3.3, 4.4, 5.5, 6.71, 6.93, 4.168, 9.779, 6.182, 7.59, 2.167, 7.042, 10.791, 5.313, 7.997, 5.654, 9.27, 3.1]\n",
        "\n",
        "train_Y = [1.7, 2.76, 2.09, 3.19, 1.694, 1.573, 3.366, 2.596, 2.53, 1.221, 2.827, 3.465, 1.65, 2.904, 2.42, 2.94, 1.3]\n",
        "\n",
        "\n",
        "NUM_EXAMPLES = len(train_X)\n",
        "\n",
        "\n",
        "\n",
        "#create model paramters with initial values\n",
        "W = tf.Variable(0.)\n",
        "\n",
        "b = tf.Variable(0.)\n",
        "\n",
        "\n",
        "#training info\n",
        "train_steps = 100\n",
        "learning_rate = 0.01\n",
        "\n",
        "for i in range(train_steps):\n",
        "\n",
        "  #watch the gradient flow\n",
        "  with tf.GradientTape() as tape:\n",
        "\n",
        "    #forward pass\n",
        "    yhat = train_X * W +b\n",
        "\n",
        "    #calculate the Loss (difference squared error)\n",
        "    error = yhat - train_Y\n",
        "    loss = tf.reduce_mean(tf.square(error))\n",
        "\n",
        "  #evaluate the gradient with the respect to the parameters\n",
        "  dW, db = tape.gradient(loss, [W, b])\n",
        "\n",
        "  #update the parameters using Gradient Descent\n",
        "  W.assign_sub(dW * learning_rate)\n",
        "  b.assign_add(db* learning_rate)\n",
        "\n",
        "  #print the Loss every 20 iteration\n",
        "  if i % 20 == 0:\n",
        "    print(\"Loss at step {:03d}: {:.3f}\".format(i, loss))\n",
        "  print(f'W : {W.numpy()} , b = {b.numpy()} ')"
      ],
      "metadata": {
        "colab": {
          "base_uri": "https://localhost:8080/"
        },
        "id": "UmIKRWW55Y57",
        "outputId": "e2bb28ce-b9bd-41c4-f87e-d891d720fa2e"
      },
      "execution_count": 6,
      "outputs": [
        {
          "output_type": "stream",
          "name": "stdout",
          "text": [
            "Loss at step 000: 6.100\n",
            "W : 0.32237356901168823 , b = -0.04732470586895943 \n",
            "W : 0.36513468623161316 , b = -0.05543460696935654 \n",
            "W : 0.37103503942489624 , b = -0.05837952718138695 \n",
            "W : 0.3720766603946686 , b = -0.06064827740192413 \n",
            "W : 0.3724783957004547 , b = -0.06283263862133026 \n",
            "W : 0.3727964758872986 , b = -0.06501063704490662 \n",
            "W : 0.37310418486595154 , b = -0.06719256937503815 \n",
            "W : 0.3734112083911896 , b = -0.06937980651855469 \n",
            "W : 0.373718798160553 , b = -0.07157254219055176 \n",
            "W : 0.3740271329879761 , b = -0.07377080619335175 \n",
            "W : 0.37433627247810364 , b = -0.07597462832927704 \n",
            "W : 0.3746461868286133 , b = -0.07818401604890823 \n",
            "W : 0.374956876039505 , b = -0.08039898425340652 \n",
            "W : 0.3752683401107788 , b = -0.08261954039335251 \n",
            "W : 0.3755805790424347 , b = -0.08484570682048798 \n",
            "W : 0.37589362263679504 , b = -0.08707749843597412 \n",
            "W : 0.37620747089385986 , b = -0.08931492269039154 \n",
            "W : 0.37652209401130676 , b = -0.09155800193548203 \n",
            "W : 0.37683749198913574 , b = -0.09380674362182617 \n",
            "W : 0.3771537244319916 , b = -0.09606117010116577 \n",
            "Loss at step 020: 0.253\n",
            "W : 0.3774707615375519 , b = -0.09832128882408142 \n",
            "W : 0.37778857350349426 , b = -0.10058711469173431 \n",
            "W : 0.3781071901321411 , b = -0.10285866260528564 \n",
            "W : 0.37842661142349243 , b = -0.1051359474658966 \n",
            "W : 0.3787468373775482 , b = -0.1074189841747284 \n",
            "W : 0.37906789779663086 , b = -0.1097077876329422 \n",
            "W : 0.3793897330760956 , b = -0.11200237274169922 \n",
            "W : 0.37971240282058716 , b = -0.11430275440216064 \n",
            "W : 0.3800358772277832 , b = -0.11660894006490707 \n",
            "W : 0.3803601562976837 , b = -0.1189209520816803 \n",
            "W : 0.38068529963493347 , b = -0.12123880535364151 \n",
            "W : 0.3810112178325653 , b = -0.1235625147819519 \n",
            "W : 0.3813380002975464 , b = -0.12589208781719208 \n",
            "W : 0.38166558742523193 , b = -0.12822754681110382 \n",
            "W : 0.38199397921562195 , b = -0.13056890666484833 \n",
            "W : 0.3823232352733612 , b = -0.1329161822795868 \n",
            "W : 0.3826533257961273 , b = -0.1352693885564804 \n",
            "W : 0.3829842209815979 , b = -0.13762852549552917 \n",
            "W : 0.38331595063209534 , b = -0.13999362289905548 \n",
            "W : 0.383648544549942 , b = -0.14236469566822052 \n",
            "Loss at step 040: 0.264\n",
            "W : 0.38398197293281555 , b = -0.14474175870418549 \n",
            "W : 0.38431623578071594 , b = -0.14712482690811157 \n",
            "W : 0.3846513330936432 , b = -0.14951391518115997 \n",
            "W : 0.3849872946739197 , b = -0.15190903842449188 \n",
            "W : 0.385324090719223 , b = -0.1543102115392685 \n",
            "W : 0.3856617510318756 , b = -0.156717449426651 \n",
            "W : 0.38600024580955505 , b = -0.1591307669878006 \n",
            "W : 0.38633960485458374 , b = -0.16155017912387848 \n",
            "W : 0.38667982816696167 , b = -0.16397570073604584 \n",
            "W : 0.38702091574668884 , b = -0.16640734672546387 \n",
            "W : 0.38736283779144287 , b = -0.16884513199329376 \n",
            "W : 0.38770565390586853 , b = -0.17128907144069672 \n",
            "W : 0.38804930448532104 , b = -0.17373917996883392 \n",
            "W : 0.3883938491344452 , b = -0.17619548738002777 \n",
            "W : 0.3887392580509186 , b = -0.17865799367427826 \n",
            "W : 0.3890855312347412 , b = -0.18112672865390778 \n",
            "W : 0.3894326984882355 , b = -0.18360169231891632 \n",
            "W : 0.389780730009079 , b = -0.1860828995704651 \n",
            "W : 0.39012962579727173 , b = -0.18857038021087646 \n",
            "W : 0.3904794156551361 , b = -0.19106414914131165 \n",
            "Loss at step 060: 0.275\n",
            "W : 0.3908300995826721 , b = -0.19356420636177063 \n",
            "W : 0.3911816477775574 , b = -0.1960705816745758 \n",
            "W : 0.39153409004211426 , b = -0.19858328998088837 \n",
            "W : 0.3918874263763428 , b = -0.2011023461818695 \n",
            "W : 0.3922416567802429 , b = -0.20362776517868042 \n",
            "W : 0.3925967812538147 , b = -0.2061595618724823 \n",
            "W : 0.3929528295993805 , b = -0.20869775116443634 \n",
            "W : 0.39330974221229553 , b = -0.21124234795570374 \n",
            "W : 0.3936675786972046 , b = -0.21379336714744568 \n",
            "W : 0.3940262794494629 , b = -0.21635083854198456 \n",
            "W : 0.3943859040737152 , b = -0.21891476213932037 \n",
            "W : 0.39474645256996155 , b = -0.2214851677417755 \n",
            "W : 0.3951078951358795 , b = -0.22406205534934998 \n",
            "W : 0.3954702615737915 , b = -0.22664545476436615 \n",
            "W : 0.3958335518836975 , b = -0.22923538088798523 \n",
            "W : 0.39619773626327515 , b = -0.2318318486213684 \n",
            "W : 0.3965628445148468 , b = -0.23443487286567688 \n",
            "W : 0.39692890644073486 , b = -0.23704448342323303 \n",
            "W : 0.39729586243629456 , b = -0.23966068029403687 \n",
            "W : 0.39766374230384827 , b = -0.24228347837924957 \n",
            "Loss at step 080: 0.288\n",
            "W : 0.3980325758457184 , b = -0.24491290748119354 \n",
            "W : 0.39840230345726013 , b = -0.24754896759986877 \n",
            "W : 0.3987730145454407 , b = -0.25019168853759766 \n",
            "W : 0.39914461970329285 , b = -0.2528410851955414 \n",
            "W : 0.3995171785354614 , b = -0.25549718737602234 \n",
            "W : 0.3998906910419464 , b = -0.2581599950790405 \n",
            "W : 0.4002651274204254 , b = -0.26082950830459595 \n",
            "W : 0.4006405174732208 , b = -0.2635057866573334 \n",
            "W : 0.40101686120033264 , b = -0.2661888003349304 \n",
            "W : 0.40139415860176086 , b = -0.26887860894203186 \n",
            "W : 0.4017723798751831 , b = -0.2715752124786377 \n",
            "W : 0.40215158462524414 , b = -0.2742786109447479 \n",
            "W : 0.4025317430496216 , b = -0.27698883414268494 \n",
            "W : 0.40291285514831543 , b = -0.2797059118747711 \n",
            "W : 0.4032949209213257 , b = -0.28242984414100647 \n",
            "W : 0.40367797017097473 , b = -0.2851606607437134 \n",
            "W : 0.4040619730949402 , b = -0.28789836168289185 \n",
            "W : 0.40444695949554443 , b = -0.29064300656318665 \n",
            "W : 0.4048328995704651 , b = -0.2933945655822754 \n",
            "W : 0.40521982312202454 , b = -0.29615306854248047 \n"
          ]
        }
      ]
    },
    {
      "cell_type": "code",
      "source": [
        "%matplotlib inline\n",
        "import matplotlib.pyplot as plt\n",
        "import numpy as np\n",
        "\n",
        "# Graphic display\n",
        "plt.plot(train_X, train_Y, 'ro', label='Original data')\n",
        "plt.plot(train_X, np.array(W * train_X + b), label='Fitted line')\n",
        "plt.legend()\n",
        "plt.show()"
      ],
      "metadata": {
        "colab": {
          "base_uri": "https://localhost:8080/",
          "height": 430
        },
        "id": "K1rCsPB0C4qN",
        "outputId": "8764feff-037a-41bc-b3c9-4b2a24992702"
      },
      "execution_count": 8,
      "outputs": [
        {
          "output_type": "display_data",
          "data": {
            "text/plain": [
              "<Figure size 640x480 with 1 Axes>"
            ],
            "image/png": "[encoded data removed]"
          },
          "metadata": {}
        }
      ]
    },
    {
      "cell_type": "markdown",
      "source": [
        "# TensorFlow 2 MNIST Demo"
      ],
      "metadata": {
        "id": "B4EX4Y4sBsAd"
      }
    },
    {
      "cell_type": "markdown",
      "source": [
        "Step 0: Load TensorFlow:\n"
      ],
      "metadata": {
        "id": "p7VsFfeYBzUA"
      }
    },
    {
      "cell_type": "code",
      "source": [
        "import tensorflow as tf"
      ],
      "metadata": {
        "id": "qA4LhGCLB7YC"
      },
      "execution_count": 9,
      "outputs": []
    },
    {
      "cell_type": "markdown",
      "source": [
        "Step 1: Load MNIST dataset and convert same to floating point numbers from integers:"
      ],
      "metadata": {
        "id": "aGWiGJxXB_dq"
      }
    },
    {
      "cell_type": "code",
      "source": [
        "mnist = tf.keras.datasets.mnist\n",
        "\n",
        "(x_train, y_train), (x_test, y_test) = mnist.load_data()\n",
        "x_train, x_test = x_train / 255.0, x_test / 255.0"
      ],
      "metadata": {
        "id": "MSqQ-2v9CPAo"
      },
      "execution_count": 11,
      "outputs": []
    },
    {
      "cell_type": "markdown",
      "source": [
        "Step 2: Build the model, choose an optimizer and the loss function:"
      ],
      "metadata": {
        "id": "HYi67i4KCnwE"
      }
    },
    {
      "cell_type": "code",
      "source": [
        "model = tf.keras.models.Sequential([\n",
        "    tf.keras.layers.Flatten(input_shape=(28, 28)),\n",
        "    tf.keras.layers.Dense(128, activation='relu'),\n",
        "    tf.keras.layers.Dropout(0.2),\n",
        "    tf.keras.layers.Dense(10)\n",
        "])"
      ],
      "metadata": {
        "id": "b0aExypoEHRm"
      },
      "execution_count": 12,
      "outputs": []
    },
    {
      "cell_type": "markdown",
      "source": [
        "Step 3: Take a look at what the model is doing in terms of outputs - vectors:"
      ],
      "metadata": {
        "id": "SXjNWegIEod9"
      }
    },
    {
      "cell_type": "code",
      "source": [
        "predictions = model(x_train[:1]).numpy()\n",
        "predictions"
      ],
      "metadata": {
        "colab": {
          "base_uri": "https://localhost:8080/"
        },
        "id": "L-yrK_d5EybB",
        "outputId": "4295fabd-e188-4e3d-9eb9-9eb3cb7e223a"
      },
      "execution_count": 13,
      "outputs": [
        {
          "output_type": "execute_result",
          "data": {
            "text/plain": [
              "array([[ 0.11039054,  0.20751585, -0.68420106,  0.5677315 , -0.4134785 ,\n",
              "        -0.35317028, -0.44309184, -0.10167119,  0.9263735 , -0.6986789 ]],\n",
              "      dtype=float32)"
            ]
          },
          "metadata": {},
          "execution_count": 13
        }
      ]
    },
    {
      "cell_type": "markdown",
      "source": [
        "Step 4: We need the probability of each class instead of the vectors:"
      ],
      "metadata": {
        "id": "5mCZElznFEcz"
      }
    },
    {
      "cell_type": "code",
      "source": [
        "tf.nn.softmax(predictions).numpy()"
      ],
      "metadata": {
        "colab": {
          "base_uri": "https://localhost:8080/"
        },
        "id": "BWGDKQQWFM4R",
        "outputId": "2a6dd891-e669-4c18-efec-7cf583ceafc7"
      },
      "execution_count": 14,
      "outputs": [
        {
          "output_type": "execute_result",
          "data": {
            "text/plain": [
              "array([[0.10587136, 0.11667008, 0.04782905, 0.16726272, 0.06269964,\n",
              "        0.0665973 , 0.06087012, 0.08564091, 0.23941723, 0.04714157]],\n",
              "      dtype=float32)"
            ]
          },
          "metadata": {},
          "execution_count": 14
        }
      ]
    },
    {
      "cell_type": "markdown",
      "source": [
        "Step 5:Finding the scalar loss for each example:"
      ],
      "metadata": {
        "id": "Eptctap8FTui"
      }
    },
    {
      "cell_type": "code",
      "source": [
        "loss_fn = tf.keras.losses.SparseCategoricalCrossentropy(from_logits=True)"
      ],
      "metadata": {
        "id": "lhHwsM7FF73G"
      },
      "execution_count": 15,
      "outputs": []
    },
    {
      "cell_type": "code",
      "source": [
        "loss_fn(y_train[:1], predictions).numpy()"
      ],
      "metadata": {
        "colab": {
          "base_uri": "https://localhost:8080/"
        },
        "id": "96kce_AaGMpo",
        "outputId": "849ec41c-b64b-461f-8d27-953b74e3c89c"
      },
      "execution_count": 16,
      "outputs": [
        {
          "output_type": "execute_result",
          "data": {
            "text/plain": [
              "2.7090912"
            ]
          },
          "metadata": {},
          "execution_count": 16
        }
      ]
    },
    {
      "cell_type": "markdown",
      "source": [
        "Step 6:Model compilation:"
      ],
      "metadata": {
        "id": "1QhFnv7aGUcd"
      }
    },
    {
      "cell_type": "code",
      "source": [
        "model.compile(optimizer= 'adam',\n",
        "              loss=loss_fn,\n",
        "              metrics=['accuracy'])"
      ],
      "metadata": {
        "id": "m4bqQpxtGaDc"
      },
      "execution_count": 17,
      "outputs": []
    },
    {
      "cell_type": "markdown",
      "source": [
        "Step 7:Model fitting to minimize the loss:"
      ],
      "metadata": {
        "id": "l1VW8TtQGn66"
      }
    },
    {
      "cell_type": "code",
      "source": [
        "model.fit(x_train, y_train, epochs=15)"
      ],
      "metadata": {
        "colab": {
          "base_uri": "https://localhost:8080/"
        },
        "id": "zBK098YrGtcg",
        "outputId": "158c91c8-561e-4ffd-94b2-5e94aa754b0f"
      },
      "execution_count": 19,
      "outputs": [
        {
          "output_type": "stream",
          "name": "stdout",
          "text": [
            "Epoch 1/15\n",
            "1875/1875 [==============================] - 7s 4ms/step - loss: 0.0656 - accuracy: 0.9791\n",
            "Epoch 2/15\n",
            "1875/1875 [==============================] - 8s 4ms/step - loss: 0.0573 - accuracy: 0.9815\n",
            "Epoch 3/15\n",
            "1875/1875 [==============================] - 7s 4ms/step - loss: 0.0535 - accuracy: 0.9821\n",
            "Epoch 4/15\n",
            "1875/1875 [==============================] - 9s 5ms/step - loss: 0.0490 - accuracy: 0.9843\n",
            "Epoch 5/15\n",
            "1875/1875 [==============================] - 7s 4ms/step - loss: 0.0436 - accuracy: 0.9856\n",
            "Epoch 6/15\n",
            "1875/1875 [==============================] - 8s 4ms/step - loss: 0.0422 - accuracy: 0.9860\n",
            "Epoch 7/15\n",
            "1875/1875 [==============================] - 6s 3ms/step - loss: 0.0389 - accuracy: 0.9868\n",
            "Epoch 8/15\n",
            "1875/1875 [==============================] - 9s 5ms/step - loss: 0.0370 - accuracy: 0.9872\n",
            "Epoch 9/15\n",
            "1875/1875 [==============================] - 7s 4ms/step - loss: 0.0339 - accuracy: 0.9881\n",
            "Epoch 10/15\n",
            "1875/1875 [==============================] - 8s 4ms/step - loss: 0.0324 - accuracy: 0.9888\n",
            "Epoch 11/15\n",
            "1875/1875 [==============================] - 6s 3ms/step - loss: 0.0294 - accuracy: 0.9901\n",
            "Epoch 12/15\n",
            "1875/1875 [==============================] - 8s 4ms/step - loss: 0.0290 - accuracy: 0.9895\n",
            "Epoch 13/15\n",
            "1875/1875 [==============================] - 6s 3ms/step - loss: 0.0292 - accuracy: 0.9903\n",
            "Epoch 14/15\n",
            "1875/1875 [==============================] - 8s 4ms/step - loss: 0.0279 - accuracy: 0.9904\n",
            "Epoch 15/15\n",
            "1875/1875 [==============================] - 6s 3ms/step - loss: 0.0275 - accuracy: 0.9906\n"
          ]
        },
        {
          "output_type": "execute_result",
          "data": {
            "text/plain": [
              "<keras.src.callbacks.History at 0x7eafa1766680>"
            ]
          },
          "metadata": {},
          "execution_count": 19
        }
      ]
    },
    {
      "cell_type": "markdown",
      "source": [
        "Step 8:Model evaluation"
      ],
      "metadata": {
        "id": "sD_EhOzQGzfz"
      }
    },
    {
      "cell_type": "code",
      "source": [
        "model.evaluate(x_test, y_test, verbose=2)"
      ],
      "metadata": {
        "colab": {
          "base_uri": "https://localhost:8080/"
        },
        "id": "wbXfPzVKG4Ba",
        "outputId": "e96e888a-fafd-425b-b044-cd6c694591c9"
      },
      "execution_count": 20,
      "outputs": [
        {
          "output_type": "stream",
          "name": "stdout",
          "text": [
            "313/313 - 1s - loss: 0.0721 - accuracy: 0.9817 - 950ms/epoch - 3ms/step\n"
          ]
        },
        {
          "output_type": "execute_result",
          "data": {
            "text/plain": [
              "[0.0720774382352829, 0.9817000031471252]"
            ]
          },
          "metadata": {},
          "execution_count": 20
        }
      ]
    }
  ]
}